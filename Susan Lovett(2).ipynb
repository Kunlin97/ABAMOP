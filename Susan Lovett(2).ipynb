{
 "cells": [
  {
   "cell_type": "code",
   "execution_count": 1,
   "source": [
    "from pulp import LpMinimize, LpProblem, LpStatus, LpVariable"
   ],
   "outputs": [],
   "metadata": {}
  },
  {
   "cell_type": "code",
   "execution_count": 2,
   "source": [
    "# Create the model\n",
    "model = LpProblem(name=\"Susan Lovett\", sense=LpMinimize)"
   ],
   "outputs": [
    {
     "output_type": "stream",
     "name": "stderr",
     "text": [
      "/Users/kunlin/miniforge3/lib/python3.9/site-packages/pulp/pulp.py:1316: UserWarning: Spaces are not permitted in the name. Converted to '_'\n",
      "  warnings.warn(\"Spaces are not permitted in the name. Converted to '_'\")\n"
     ]
    }
   ],
   "metadata": {}
  },
  {
   "cell_type": "code",
   "execution_count": 3,
   "source": [
    "# Initialize the decision variables\n",
    "X1 = LpVariable(name=\"X1\", lowBound=0, cat='Integer')\n",
    "X2 = LpVariable(name=\"X2\", lowBound=0, cat='Integer')\n",
    "X3 = LpVariable(name=\"X3\", lowBound=0, cat='Integer')\n",
    "X4 = LpVariable(name=\"X4\", lowBound=0, cat='Integer')\n",
    "X5 = LpVariable(name=\"X5\", lowBound=0, cat='Integer')\n",
    "X6 = LpVariable(name=\"X6\", lowBound=0, cat='Integer')\n",
    "dD1 = LpVariable(name=\"dD1\", lowBound=0)\n",
    "dD2 = LpVariable(name=\"dD2\", lowBound=0)\n",
    "dC1 = LpVariable(name=\"dC1\", lowBound=0)\n",
    "dC2 = LpVariable(name=\"dC2\", lowBound=0)\n",
    "dL1 = LpVariable(name=\"dL1\", lowBound=0)\n",
    "dL2 = LpVariable(name=\"dL2\", lowBound=0)\n",
    "dF1 = LpVariable(name=\"dF1\", lowBound=0)\n",
    "dF2 = LpVariable(name=\"dF2\", lowBound=0)"
   ],
   "outputs": [],
   "metadata": {}
  },
  {
   "cell_type": "code",
   "execution_count": 4,
   "source": [
    "# Add the constraints to the model\n",
    "model += (X1+X2+X3+X4+X5+X6+dD1-dD2 == 50000, \"demand_constraint\")\n",
    "model += (3*X1+3.5*X2+4*X3+4.5*X4+5*X5+6*X6+dC1-dC2 == 250000, \"cost_constraint\")\n",
    "model += (0.25*X1+0.3*X2+0.15*X3+0.2*X4+0.4*X5+0.05*X6+dL1-dL2 == 0, \"late_constraint\")\n",
    "model += (0.4*X1+0.35*X2+0.3*X3+0.25*X4+0.2*X5+0.05*X6+dF1-dF2 == 0, \"defect_constraint\")"
   ],
   "outputs": [],
   "metadata": {}
  },
  {
   "cell_type": "code",
   "execution_count": 5,
   "source": [
    "# Add the objective function to the model\n",
    "obj_func = 5*dD1+10*dF1+10*dF2\n",
    "model += obj_func"
   ],
   "outputs": [],
   "metadata": {}
  },
  {
   "cell_type": "code",
   "execution_count": 6,
   "source": [
    "# Solve the problem\n",
    "status = model.solve()\n",
    "\n",
    "print(f\"status: {model.status}, {LpStatus[model.status]}\")\n",
    "\n",
    "print(f\"objective: {model.objective.value()}\")\n",
    "\n",
    "for var in model.variables():\n",
    "    print(f\"{var.name}: {var.value()}\")\n",
    "\n",
    "for name, constraint in model.constraints.items():\n",
    "    print(f\"{name}: {constraint.value()}\")"
   ],
   "outputs": [
    {
     "output_type": "stream",
     "name": "stdout",
     "text": [
      "GLPSOL--GLPK LP/MIP Solver 5.0\n",
      "Parameter(s) specified in the command line:\n",
      " --cpxlp /var/folders/nk/k6fq4zkd6lxfpjmy32h3lk0w0000gn/T/9078666fbb414f83ae38c70adeb74b82-pulp.lp\n",
      " -o /var/folders/nk/k6fq4zkd6lxfpjmy32h3lk0w0000gn/T/9078666fbb414f83ae38c70adeb74b82-pulp.sol\n",
      "Reading problem data from '/var/folders/nk/k6fq4zkd6lxfpjmy32h3lk0w0000gn/T/9078666fbb414f83ae38c70adeb74b82-pulp.lp'...\n",
      "4 rows, 14 columns, 32 non-zeros\n",
      "6 integer variables, none of which are binary\n",
      "26 lines were read\n",
      "GLPK Integer Optimizer 5.0\n",
      "4 rows, 14 columns, 32 non-zeros\n",
      "6 integer variables, none of which are binary\n",
      "Preprocessing...\n",
      "2 rows, 8 columns, 14 non-zeros\n",
      "6 integer variables, none of which are binary\n",
      "Scaling...\n",
      " A: min|aij| =  1.000e+00  max|aij| =  6.000e+00  ratio =  6.000e+00\n",
      "Problem data seem to be well scaled\n",
      "Constructing initial basis...\n",
      "Size of triangular part is 2\n",
      "Solving LP relaxation...\n",
      "GLPK Simplex Optimizer 5.0\n",
      "2 rows, 8 columns, 14 non-zeros\n",
      "*     0: obj =   2.500000000e+05 inf =   0.000e+00 (6)\n",
      "*     2: obj =   2.500000000e+04 inf =   0.000e+00 (0)\n",
      "OPTIMAL LP SOLUTION FOUND\n",
      "Integer optimization begins...\n",
      "Long-step dual simplex will be used\n",
      "+     2: mip =     not found yet >=              -inf        (1; 0)\n",
      "+     2: >>>>>   2.500000000e+04 >=   2.500000000e+04   0.0% (1; 0)\n",
      "+     2: mip =   2.500000000e+04 >=     tree is empty   0.0% (0; 1)\n",
      "INTEGER OPTIMAL SOLUTION FOUND\n",
      "Time used:   0.0 secs\n",
      "Memory used: 0.1 Mb (61326 bytes)\n",
      "Writing MIP solution to '/var/folders/nk/k6fq4zkd6lxfpjmy32h3lk0w0000gn/T/9078666fbb414f83ae38c70adeb74b82-pulp.sol'...\n",
      "status: 1, Optimal\n",
      "objective: 25000.0\n",
      "X1: 0\n",
      "X2: 0\n",
      "X3: 0\n",
      "X4: 0\n",
      "X5: 0\n",
      "X6: 50000\n",
      "dC1: 0.0\n",
      "dC2: 50000.0\n",
      "dD1: 0.0\n",
      "dD2: 0.0\n",
      "dF1: 0.0\n",
      "dF2: 2500.0\n",
      "dL1: 0.0\n",
      "dL2: 2500.0\n",
      "demand_constraint: 0.0\n",
      "cost_constraint: 0.0\n",
      "late_constraint: 0.0\n",
      "defect_constraint: 0.0\n"
     ]
    }
   ],
   "metadata": {}
  }
 ],
 "metadata": {
  "orig_nbformat": 4,
  "language_info": {
   "name": "python",
   "version": "3.9.6",
   "mimetype": "text/x-python",
   "codemirror_mode": {
    "name": "ipython",
    "version": 3
   },
   "pygments_lexer": "ipython3",
   "nbconvert_exporter": "python",
   "file_extension": ".py"
  },
  "kernelspec": {
   "name": "python3",
   "display_name": "Python 3.9.6 64-bit ('base': conda)"
  },
  "interpreter": {
   "hash": "7cc1fb44cda6d6ce4a0e7446775551d7e610375bd71d5e0995a52ad979a28352"
  }
 },
 "nbformat": 4,
 "nbformat_minor": 2
}