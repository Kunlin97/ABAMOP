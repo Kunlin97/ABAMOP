{
 "cells": [
  {
   "cell_type": "code",
   "execution_count": 1,
   "source": [
    "from pulp import LpMinimize, LpProblem, LpStatus, LpVariable"
   ],
   "outputs": [],
   "metadata": {}
  },
  {
   "cell_type": "code",
   "execution_count": 2,
   "source": [
    "# Create the model\n",
    "model = LpProblem(name=\"Susan Lovett\", sense=LpMinimize)"
   ],
   "outputs": [
    {
     "output_type": "stream",
     "name": "stderr",
     "text": [
      "/Users/kunlin/miniforge3/lib/python3.9/site-packages/pulp/pulp.py:1316: UserWarning: Spaces are not permitted in the name. Converted to '_'\n",
      "  warnings.warn(\"Spaces are not permitted in the name. Converted to '_'\")\n"
     ]
    }
   ],
   "metadata": {}
  },
  {
   "cell_type": "code",
   "execution_count": 3,
   "source": [
    "# Initialize the decision variables\n",
    "X1 = LpVariable(name=\"X1\", lowBound=0, cat='Integer')\n",
    "X2 = LpVariable(name=\"X2\", lowBound=0, cat='Integer')\n",
    "X3 = LpVariable(name=\"X3\", lowBound=0, cat='Integer')\n",
    "X4 = LpVariable(name=\"X4\", lowBound=0, cat='Integer')\n",
    "X5 = LpVariable(name=\"X5\", lowBound=0, cat='Integer')\n",
    "X6 = LpVariable(name=\"X6\", lowBound=0, cat='Integer')\n",
    "dD1 = LpVariable(name=\"dD1\", lowBound=0)\n",
    "dD2 = LpVariable(name=\"dD2\", lowBound=0)\n",
    "dC1 = LpVariable(name=\"dC1\", lowBound=0)\n",
    "dC2 = LpVariable(name=\"dC2\", lowBound=0)\n",
    "dL1 = LpVariable(name=\"dL1\", lowBound=0)\n",
    "dL2 = LpVariable(name=\"dL2\", lowBound=0)\n",
    "dF1 = LpVariable(name=\"dF1\", lowBound=0)\n",
    "dF2 = LpVariable(name=\"dF2\", lowBound=0)"
   ],
   "outputs": [],
   "metadata": {}
  },
  {
   "cell_type": "code",
   "execution_count": 4,
   "source": [
    "# Add the constraints to the model\n",
    "model += (X1+X2+X3+X4+X5+X6+dD1-dD2 == 50000, \"demand_constraint\")\n",
    "model += (3*X1+3.5*X2+4*X3+4.5*X4+5*X5+6*X6+dC1-dC2 == 250000, \"cost_constraint\")\n",
    "model += (0.25*X1+0.3*X2+0.15*X3+0.2*X4+0.4*X5+0.05*X6+dL1-dL2 == 2500, \"late_constraint\")\n",
    "model += (0.4*X1+0.35*X2+0.3*X3+0.25*X4+0.2*X5+0.05*X6+dF1-dF2 == 2500, \"defect_constraint\")"
   ],
   "outputs": [],
   "metadata": {}
  },
  {
   "cell_type": "code",
   "execution_count": 5,
   "source": [
    "# Add the objective function to the model\n",
    "obj_func = (dD1+dD2)/50000+(dC1+dC2)/250000+(dL1+dL2)/2500+(dF1+dF2)/2500\n",
    "model += obj_func"
   ],
   "outputs": [],
   "metadata": {}
  },
  {
   "cell_type": "code",
   "execution_count": 6,
   "source": [
    "# Solve the problem\n",
    "status = model.solve()\n",
    "\n",
    "print(f\"status: {model.status}, {LpStatus[model.status]}\")\n",
    "\n",
    "print(f\"objective: {model.objective.value()}\")\n",
    "\n",
    "for var in model.variables():\n",
    "    print(f\"{var.name}: {var.value()}\")\n",
    "\n",
    "for name, constraint in model.constraints.items():\n",
    "    print(f\"{name}: {constraint.value()}\")"
   ],
   "outputs": [
    {
     "output_type": "stream",
     "name": "stdout",
     "text": [
      "GLPSOL--GLPK LP/MIP Solver 5.0\n",
      "Parameter(s) specified in the command line:\n",
      " --cpxlp /var/folders/nk/k6fq4zkd6lxfpjmy32h3lk0w0000gn/T/9bd25cfbfdb54673864577028520c003-pulp.lp\n",
      " -o /var/folders/nk/k6fq4zkd6lxfpjmy32h3lk0w0000gn/T/9bd25cfbfdb54673864577028520c003-pulp.sol\n",
      "Reading problem data from '/var/folders/nk/k6fq4zkd6lxfpjmy32h3lk0w0000gn/T/9bd25cfbfdb54673864577028520c003-pulp.lp'...\n",
      "4 rows, 14 columns, 32 non-zeros\n",
      "6 integer variables, none of which are binary\n",
      "27 lines were read\n",
      "GLPK Integer Optimizer 5.0\n",
      "4 rows, 14 columns, 32 non-zeros\n",
      "6 integer variables, none of which are binary\n",
      "Preprocessing...\n",
      "4 rows, 10 columns, 28 non-zeros\n",
      "6 integer variables, none of which are binary\n",
      "Scaling...\n",
      " A: min|aij| =  5.000e-02  max|aij| =  6.000e+00  ratio =  1.200e+02\n",
      "GM: min|aij| =  5.000e-01  max|aij| =  2.000e+00  ratio =  4.000e+00\n",
      "EQ: min|aij| =  2.500e-01  max|aij| =  1.000e+00  ratio =  4.000e+00\n",
      "2N: min|aij| =  1.875e-01  max|aij| =  1.200e+00  ratio =  6.400e+00\n",
      "Constructing initial basis...\n",
      "Size of triangular part is 4\n",
      "Solving LP relaxation...\n",
      "GLPK Simplex Optimizer 5.0\n",
      "4 rows, 10 columns, 28 non-zeros\n",
      "*     0: obj =   4.000000000e+00 inf =   0.000e+00 (6)\n",
      "*     4: obj =   1.561181435e-01 inf =   0.000e+00 (0)\n",
      "OPTIMAL LP SOLUTION FOUND\n",
      "Integer optimization begins...\n",
      "Long-step dual simplex will be used\n",
      "+     4: mip =     not found yet >=              -inf        (1; 0)\n",
      "+    14: >>>>>   1.561240000e-01 >=   1.561181435e-01 < 0.1% (9; 0)\n",
      "+    48: >>>>>   1.560940000e-01 >=   1.561181435e-01 < 0.1% (20; 7)\n",
      "+    48: mip =   1.560940000e-01 >=     tree is empty   0.0% (0; 51)\n",
      "INTEGER OPTIMAL SOLUTION FOUND\n",
      "Time used:   0.0 secs\n",
      "Memory used: 0.1 Mb (74304 bytes)\n",
      "Writing MIP solution to '/var/folders/nk/k6fq4zkd6lxfpjmy32h3lk0w0000gn/T/9bd25cfbfdb54673864577028520c003-pulp.sol'...\n",
      "status: 1, Optimal\n",
      "objective: 0.15609399999999998\n",
      "X1: 0\n",
      "X2: 1154\n",
      "X3: 0\n",
      "X4: 3\n",
      "X5: 289\n",
      "X6: 40751\n",
      "dC1: 0.0\n",
      "dC2: 3.5\n",
      "dD1: 7803.0\n",
      "dD2: 0.0\n",
      "dF1: 0.0\n",
      "dF2: 0.0\n",
      "dL1: 0.05\n",
      "dL2: 0.0\n",
      "demand_constraint: 0.0\n",
      "cost_constraint: 0.0\n",
      "late_constraint: -1.8189616479702408e-13\n",
      "defect_constraint: 2.2737367544323206e-13\n"
     ]
    }
   ],
   "metadata": {}
  }
 ],
 "metadata": {
  "orig_nbformat": 4,
  "language_info": {
   "name": "python",
   "version": "3.9.6",
   "mimetype": "text/x-python",
   "codemirror_mode": {
    "name": "ipython",
    "version": 3
   },
   "pygments_lexer": "ipython3",
   "nbconvert_exporter": "python",
   "file_extension": ".py"
  },
  "kernelspec": {
   "name": "python3",
   "display_name": "Python 3.9.6 64-bit ('base': conda)"
  },
  "interpreter": {
   "hash": "7cc1fb44cda6d6ce4a0e7446775551d7e610375bd71d5e0995a52ad979a28352"
  }
 },
 "nbformat": 4,
 "nbformat_minor": 2
}