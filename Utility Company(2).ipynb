{
 "cells": [
  {
   "cell_type": "code",
   "execution_count": 1,
   "source": [
    "from pulp import LpMinimize, LpProblem, LpStatus, LpVariable"
   ],
   "outputs": [],
   "metadata": {}
  },
  {
   "cell_type": "code",
   "execution_count": 2,
   "source": [
    "# Create the model\n",
    "model = LpProblem(name=\"Utility Company\", sense=LpMinimize)"
   ],
   "outputs": [
    {
     "output_type": "stream",
     "name": "stderr",
     "text": [
      "/Users/kunlin/miniforge3/lib/python3.9/site-packages/pulp/pulp.py:1316: UserWarning: Spaces are not permitted in the name. Converted to '_'\n",
      "  warnings.warn(\"Spaces are not permitted in the name. Converted to '_'\")\n"
     ]
    }
   ],
   "metadata": {}
  },
  {
   "cell_type": "code",
   "execution_count": 3,
   "source": [
    "# Initialize the decision variables\n",
    "XA = LpVariable(name=\"XA\", lowBound=0,)\n",
    "XB = LpVariable(name=\"XB\", lowBound=0,)\n",
    "Q = LpVariable(name=\"Q\", lowBound=0,)"
   ],
   "outputs": [],
   "metadata": {}
  },
  {
   "cell_type": "code",
   "execution_count": 4,
   "source": [
    "# Add the constraints to the model\n",
    "model += ((7575-3*XA-2.5*XB-2*(XA+XB-40*10))/7575 <= Q, \"profit_deviation\")\n",
    "model += ((XA+XB-40*10-50)/50 <= Q, \"hours_deviation\")\n",
    "model += (10*XA >= 4000, \"demand_active\")\n",
    "model += (XB >= 50, \"demand_inactive\")\n",
    "model += (XA +XB <= 10*24*7, \"time_constraint\")"
   ],
   "outputs": [],
   "metadata": {}
  },
  {
   "cell_type": "code",
   "execution_count": 5,
   "source": [
    "\n",
    "# Add the objective function to the model\n",
    "obj_func = Q\n",
    "model += obj_func"
   ],
   "outputs": [],
   "metadata": {}
  },
  {
   "cell_type": "code",
   "execution_count": 6,
   "source": [
    "# Solve the problem\n",
    "status = model.solve()\n",
    "\n",
    "print(f\"status: {model.status}, {LpStatus[model.status]}\")\n",
    "\n",
    "print(f\"objective: {model.objective.value()}\")\n",
    "\n",
    "for var in model.variables():\n",
    "    print(f\"{var.name}: {var.value()}\")\n",
    "\n",
    "for name, constraint in model.constraints.items():\n",
    "    print(f\"{name}: {constraint.value()}\")"
   ],
   "outputs": [
    {
     "output_type": "stream",
     "name": "stdout",
     "text": [
      "GLPSOL--GLPK LP/MIP Solver 5.0\n",
      "Parameter(s) specified in the command line:\n",
      " --cpxlp /var/folders/nk/k6fq4zkd6lxfpjmy32h3lk0w0000gn/T/ef5561da2ddf4d748a4768b861b2689e-pulp.lp\n",
      " -o /var/folders/nk/k6fq4zkd6lxfpjmy32h3lk0w0000gn/T/ef5561da2ddf4d748a4768b861b2689e-pulp.sol\n",
      "Reading problem data from '/var/folders/nk/k6fq4zkd6lxfpjmy32h3lk0w0000gn/T/ef5561da2ddf4d748a4768b861b2689e-pulp.lp'...\n",
      "5 rows, 3 columns, 10 non-zeros\n",
      "11 lines were read\n",
      "GLPK Simplex Optimizer 5.0\n",
      "5 rows, 3 columns, 10 non-zeros\n",
      "Preprocessing...\n",
      "3 rows, 3 columns, 8 non-zeros\n",
      "Scaling...\n",
      " A: min|aij| =  5.941e-04  max|aij| =  1.000e+00  ratio =  1.683e+03\n",
      "GM: min|aij| =  4.151e-01  max|aij| =  2.409e+00  ratio =  5.802e+00\n",
      "EQ: min|aij| =  1.723e-01  max|aij| =  1.000e+00  ratio =  5.802e+00\n",
      "Constructing initial basis...\n",
      "Size of triangular part is 3\n",
      "      0: obj =   0.000000000e+00 inf =   2.255e+01 (1)\n",
      "      1: obj =   8.118811881e-01 inf =   0.000e+00 (0)\n",
      "*     2: obj =   7.859424920e-01 inf =   0.000e+00 (0)\n",
      "OPTIMAL LP SOLUTION FOUND\n",
      "Time used:   0.0 secs\n",
      "Memory used: 0.0 Mb (40424 bytes)\n",
      "Writing basic solution to '/var/folders/nk/k6fq4zkd6lxfpjmy32h3lk0w0000gn/T/ef5561da2ddf4d748a4768b861b2689e-pulp.sol'...\n",
      "status: 1, Optimal\n",
      "objective: 0.785942\n",
      "Q: 0.785942\n",
      "XA: 439.297\n",
      "XB: 50.0\n",
      "profit_deviation: 5.742574256117905e-07\n",
      "hours_deviation: -1.999999999946489e-06\n",
      "demand_active: 392.97000000000025\n",
      "demand_inactive: 0.0\n",
      "time_constraint: -1190.703\n"
     ]
    }
   ],
   "metadata": {}
  }
 ],
 "metadata": {
  "orig_nbformat": 4,
  "language_info": {
   "name": "python",
   "version": "3.9.6",
   "mimetype": "text/x-python",
   "codemirror_mode": {
    "name": "ipython",
    "version": 3
   },
   "pygments_lexer": "ipython3",
   "nbconvert_exporter": "python",
   "file_extension": ".py"
  },
  "kernelspec": {
   "name": "python3",
   "display_name": "Python 3.9.6 64-bit ('base': conda)"
  },
  "interpreter": {
   "hash": "7cc1fb44cda6d6ce4a0e7446775551d7e610375bd71d5e0995a52ad979a28352"
  }
 },
 "nbformat": 4,
 "nbformat_minor": 2
}