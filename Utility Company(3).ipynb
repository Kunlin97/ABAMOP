{
 "cells": [
  {
   "cell_type": "code",
   "execution_count": 1,
   "source": [
    "from pulp import LpMaximize, LpProblem, LpStatus, LpVariable"
   ],
   "outputs": [],
   "metadata": {}
  },
  {
   "cell_type": "code",
   "execution_count": 2,
   "source": [
    "# Create the model\n",
    "model = LpProblem(name=\"Utility Company\", sense=LpMaximize)"
   ],
   "outputs": [
    {
     "output_type": "stream",
     "name": "stderr",
     "text": [
      "/Users/kunlin/miniforge3/lib/python3.9/site-packages/pulp/pulp.py:1316: UserWarning: Spaces are not permitted in the name. Converted to '_'\n",
      "  warnings.warn(\"Spaces are not permitted in the name. Converted to '_'\")\n"
     ]
    }
   ],
   "metadata": {}
  },
  {
   "cell_type": "code",
   "execution_count": 3,
   "source": [
    "# Initialize the decision variables\n",
    "XA = LpVariable(name=\"XA\", lowBound=0,)\n",
    "XB = LpVariable(name=\"XB\", lowBound=0,)"
   ],
   "outputs": [],
   "metadata": {}
  },
  {
   "cell_type": "code",
   "execution_count": 4,
   "source": [
    "# Add the constraints to the model\n",
    "model += (XA+XB-40*10<=80, \"overtime_limit\")\n",
    "model += (10*XA >= 4000, \"demand_active\")\n",
    "model += (XB >= 50, \"demand_inactive\")\n",
    "model += (XA +XB <= 10*24*7, \"time_constraint\")"
   ],
   "outputs": [],
   "metadata": {}
  },
  {
   "cell_type": "code",
   "execution_count": 5,
   "source": [
    "# Add the objective function to the model\n",
    "obj_func = 3*XA+2.5*XB+2*(XA+XB-40*10)\n",
    "model += obj_func"
   ],
   "outputs": [],
   "metadata": {}
  },
  {
   "cell_type": "code",
   "execution_count": 6,
   "source": [
    "# Solve the problem\n",
    "status = model.solve()\n",
    "\n",
    "print(f\"status: {model.status}, {LpStatus[model.status]}\")\n",
    "\n",
    "print(f\"objective: {model.objective.value()}\")\n",
    "\n",
    "for var in model.variables():\n",
    "    print(f\"{var.name}: {var.value()}\")\n",
    "\n",
    "for name, constraint in model.constraints.items():\n",
    "    print(f\"{name}: {constraint.value()}\")"
   ],
   "outputs": [
    {
     "output_type": "stream",
     "name": "stdout",
     "text": [
      "GLPSOL--GLPK LP/MIP Solver 5.0\n",
      "Parameter(s) specified in the command line:\n",
      " --cpxlp /var/folders/nk/k6fq4zkd6lxfpjmy32h3lk0w0000gn/T/9191a8bbc525415db82e729ffd58a201-pulp.lp\n",
      " -o /var/folders/nk/k6fq4zkd6lxfpjmy32h3lk0w0000gn/T/9191a8bbc525415db82e729ffd58a201-pulp.sol\n",
      "Reading problem data from '/var/folders/nk/k6fq4zkd6lxfpjmy32h3lk0w0000gn/T/9191a8bbc525415db82e729ffd58a201-pulp.lp'...\n",
      "4 rows, 2 columns, 6 non-zeros\n",
      "9 lines were read\n",
      "GLPK Simplex Optimizer 5.0\n",
      "4 rows, 2 columns, 6 non-zeros\n",
      "Preprocessing...\n",
      "2 rows, 2 columns, 4 non-zeros\n",
      "Scaling...\n",
      " A: min|aij| =  1.000e+00  max|aij| =  1.000e+00  ratio =  1.000e+00\n",
      "Problem data seem to be well scaled\n",
      "Constructing initial basis...\n",
      "Size of triangular part is 2\n",
      "*     0: obj =   2.225000000e+03 inf =   0.000e+00 (2)\n",
      "*     1: obj =   2.375000000e+03 inf =   0.000e+00 (0)\n",
      "OPTIMAL LP SOLUTION FOUND\n",
      "Time used:   0.0 secs\n",
      "Memory used: 0.0 Mb (40412 bytes)\n",
      "Writing basic solution to '/var/folders/nk/k6fq4zkd6lxfpjmy32h3lk0w0000gn/T/9191a8bbc525415db82e729ffd58a201-pulp.sol'...\n",
      "status: 1, Optimal\n",
      "objective: 1575.0\n",
      "XA: 430.0\n",
      "XB: 50.0\n",
      "overtime_limit: 0.0\n",
      "demand_active: 300.0\n",
      "demand_inactive: 0.0\n",
      "time_constraint: -1200.0\n"
     ]
    }
   ],
   "metadata": {}
  }
 ],
 "metadata": {
  "orig_nbformat": 4,
  "language_info": {
   "name": "python",
   "version": "3.9.6",
   "mimetype": "text/x-python",
   "codemirror_mode": {
    "name": "ipython",
    "version": 3
   },
   "pygments_lexer": "ipython3",
   "nbconvert_exporter": "python",
   "file_extension": ".py"
  },
  "kernelspec": {
   "name": "python3",
   "display_name": "Python 3.9.6 64-bit ('base': conda)"
  },
  "interpreter": {
   "hash": "7cc1fb44cda6d6ce4a0e7446775551d7e610375bd71d5e0995a52ad979a28352"
  }
 },
 "nbformat": 4,
 "nbformat_minor": 2
}