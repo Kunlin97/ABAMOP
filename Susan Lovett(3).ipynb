{
 "cells": [
  {
   "cell_type": "code",
   "execution_count": 1,
   "source": [
    "from pulp import LpMinimize, LpProblem, LpStatus, LpVariable"
   ],
   "outputs": [],
   "metadata": {}
  },
  {
   "cell_type": "code",
   "execution_count": 2,
   "source": [
    "# Create the model\n",
    "model = LpProblem(name=\"Susan Lovett\", sense=LpMinimize)"
   ],
   "outputs": [
    {
     "output_type": "stream",
     "name": "stderr",
     "text": [
      "/Users/kunlin/miniforge3/lib/python3.9/site-packages/pulp/pulp.py:1316: UserWarning: Spaces are not permitted in the name. Converted to '_'\n",
      "  warnings.warn(\"Spaces are not permitted in the name. Converted to '_'\")\n"
     ]
    }
   ],
   "metadata": {}
  },
  {
   "cell_type": "code",
   "execution_count": 3,
   "source": [
    "# Initialize the decision variables\n",
    "X1 = LpVariable(name=\"X1\", lowBound=0, cat='Integer')\n",
    "X2 = LpVariable(name=\"X2\", lowBound=0, cat='Integer')\n",
    "X3 = LpVariable(name=\"X3\", lowBound=0, cat='Integer')\n",
    "X4 = LpVariable(name=\"X4\", lowBound=0, cat='Integer')\n",
    "X5 = LpVariable(name=\"X5\", lowBound=0, cat='Integer')\n",
    "X6 = LpVariable(name=\"X6\", lowBound=0, cat='Integer')\n",
    "dD1 = LpVariable(name=\"dD1\", lowBound=0)\n",
    "dD2 = LpVariable(name=\"dD2\", lowBound=0)\n",
    "dC1 = LpVariable(name=\"dC1\", lowBound=0)\n",
    "dC2 = LpVariable(name=\"dC2\", lowBound=0)\n",
    "dL1 = LpVariable(name=\"dL1\", lowBound=0)\n",
    "dL2 = LpVariable(name=\"dL2\", lowBound=0)\n",
    "dF1 = LpVariable(name=\"dF1\", lowBound=0)\n",
    "dF2 = LpVariable(name=\"dF2\", lowBound=0)"
   ],
   "outputs": [],
   "metadata": {}
  },
  {
   "cell_type": "code",
   "execution_count": 4,
   "source": [
    "# Add the constraints to the model\n",
    "model += (X1+X2+X3+X4+X5+X6+dD1-dD2 == 50000, \"demand_constraint\")\n",
    "model += (3*X1+3.5*X2+4*X3+4.5*X4+5*X5+6*X6+dC1-dC2 == 250000, \"cost_constraint\")\n",
    "model += (0.25*X1+0.3*X2+0.15*X3+0.2*X4+0.4*X5+0.05*X6+dL1-dL2 == 0.05*(X1+X2+X3+X4+X5+X6), \"late_constraint\")\n",
    "model += (0.4*X1+0.35*X2+0.3*X3+0.25*X4+0.2*X5+0.05*X6+dF1-dF2 == 0.05*(X1+X2+X3+X4+X5+X6), \"defect_constraint\")"
   ],
   "outputs": [],
   "metadata": {}
  },
  {
   "cell_type": "code",
   "execution_count": 5,
   "source": [
    "# Add the objective function to the model\n",
    "obj_func = dD1+dD2+dC1+dC2+dL1+dL2+dF1+dF2\n",
    "model += obj_func"
   ],
   "outputs": [],
   "metadata": {}
  },
  {
   "cell_type": "code",
   "execution_count": 6,
   "source": [
    "# Solve the problem\n",
    "status = model.solve()\n",
    "\n",
    "print(f\"status: {model.status}, {LpStatus[model.status]}\")\n",
    "\n",
    "print(f\"objective: {model.objective.value()}\")\n",
    "\n",
    "for var in model.variables():\n",
    "    print(f\"{var.name}: {var.value()}\")\n",
    "\n",
    "for name, constraint in model.constraints.items():\n",
    "    print(f\"{name}: {constraint.value()}\")"
   ],
   "outputs": [
    {
     "output_type": "stream",
     "name": "stdout",
     "text": [
      "GLPSOL--GLPK LP/MIP Solver 5.0\n",
      "Parameter(s) specified in the command line:\n",
      " --cpxlp /var/folders/nk/k6fq4zkd6lxfpjmy32h3lk0w0000gn/T/7b444b36d2c6464fb8b353d19c216d67-pulp.lp\n",
      " -o /var/folders/nk/k6fq4zkd6lxfpjmy32h3lk0w0000gn/T/7b444b36d2c6464fb8b353d19c216d67-pulp.sol\n",
      "Reading problem data from '/var/folders/nk/k6fq4zkd6lxfpjmy32h3lk0w0000gn/T/7b444b36d2c6464fb8b353d19c216d67-pulp.lp'...\n",
      "4 rows, 14 columns, 30 non-zeros\n",
      "6 integer variables, none of which are binary\n",
      "26 lines were read\n",
      "GLPK Integer Optimizer 5.0\n",
      "4 rows, 14 columns, 30 non-zeros\n",
      "6 integer variables, none of which are binary\n",
      "Preprocessing...\n",
      "2 rows, 8 columns, 14 non-zeros\n",
      "6 integer variables, none of which are binary\n",
      "Scaling...\n",
      " A: min|aij| =  1.000e+00  max|aij| =  6.000e+00  ratio =  6.000e+00\n",
      "Problem data seem to be well scaled\n",
      "Constructing initial basis...\n",
      "Size of triangular part is 2\n",
      "Solving LP relaxation...\n",
      "GLPK Simplex Optimizer 5.0\n",
      "2 rows, 8 columns, 14 non-zeros\n",
      "*     0: obj =   3.000000000e+05 inf =   0.000e+00 (6)\n",
      "*     1: obj =   8.333333333e+03 inf =   0.000e+00 (0)\n",
      "OPTIMAL LP SOLUTION FOUND\n",
      "Integer optimization begins...\n",
      "Long-step dual simplex will be used\n",
      "+     1: mip =     not found yet >=              -inf        (1; 0)\n",
      "+     2: >>>>>   8.333350000e+03 >=   8.333350000e+03 < 0.1% (2; 0)\n",
      "+     2: mip =   8.333350000e+03 >=     tree is empty   0.0% (0; 3)\n",
      "INTEGER OPTIMAL SOLUTION FOUND\n",
      "Time used:   0.0 secs\n",
      "Memory used: 0.1 Mb (63778 bytes)\n",
      "Writing MIP solution to '/var/folders/nk/k6fq4zkd6lxfpjmy32h3lk0w0000gn/T/7b444b36d2c6464fb8b353d19c216d67-pulp.sol'...\n",
      "status: 1, Optimal\n",
      "objective: 8333.35\n",
      "X1: 0\n",
      "X2: 0\n",
      "X3: 1\n",
      "X4: 0\n",
      "X5: 0\n",
      "X6: 41666\n",
      "dC1: 0.0\n",
      "dC2: 0.0\n",
      "dD1: 8333.0\n",
      "dD2: 0.0\n",
      "dF1: 0.0\n",
      "dF2: 0.25\n",
      "dL1: 0.0\n",
      "dL2: 0.1\n",
      "demand_constraint: 0.0\n",
      "cost_constraint: 0.0\n",
      "late_constraint: -1.3877787807814457e-17\n",
      "defect_constraint: 0.0\n"
     ]
    }
   ],
   "metadata": {}
  }
 ],
 "metadata": {
  "orig_nbformat": 4,
  "language_info": {
   "name": "python",
   "version": "3.9.6",
   "mimetype": "text/x-python",
   "codemirror_mode": {
    "name": "ipython",
    "version": 3
   },
   "pygments_lexer": "ipython3",
   "nbconvert_exporter": "python",
   "file_extension": ".py"
  },
  "kernelspec": {
   "name": "python3",
   "display_name": "Python 3.9.6 64-bit ('base': conda)"
  },
  "interpreter": {
   "hash": "7cc1fb44cda6d6ce4a0e7446775551d7e610375bd71d5e0995a52ad979a28352"
  }
 },
 "nbformat": 4,
 "nbformat_minor": 2
}